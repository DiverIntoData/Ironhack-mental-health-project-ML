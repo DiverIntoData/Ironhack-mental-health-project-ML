{
 "cells": [
  {
   "cell_type": "markdown",
   "metadata": {},
   "source": [
    "# Mental Health project"
   ]
  },
  {
   "cell_type": "code",
   "execution_count": null,
   "metadata": {},
   "outputs": [],
   "source": [
    "# load libraries\n",
    "import kaggle\n",
    "import pandas as pd\n",
    "from zipfile import ZipFile \n",
    "\n",
    "# Import data directly from Kaggle\n",
    "    # In powershell: kaggle competitions download -c playground-series-s4e11\n",
    "\n",
    "# loading the temp.zip and creating a zip object \n",
    "with ZipFile(\"C:\\\\Users\\\\xavie\\\\OneDrive\\\\Documentos\\\\Ironhack\\\\Week 5\\\\Mental Health ML Project\\\\Ironhack-mental-health-project-ML\\\\playground-series-s4e11.zip\", 'r') as zObject: \n",
    "\n",
    "\t# Extracting all the members of the zip \n",
    "\t# into a specific location. \n",
    "\tzObject.extractall( \n",
    "\t\tpath=\"C:\\\\Users\\\\xavie\\\\OneDrive\\\\Documentos\\\\Ironhack\\\\Week 5\\\\Mental Health ML Project\\\\Ironhack-mental-health-project-ML\\\\playground-series-s4e11\") \n"
   ]
  }
 ],
 "metadata": {
  "kernelspec": {
   "display_name": "base",
   "language": "python",
   "name": "python3"
  },
  "language_info": {
   "codemirror_mode": {
    "name": "ipython",
    "version": 3
   },
   "file_extension": ".py",
   "mimetype": "text/x-python",
   "name": "python",
   "nbconvert_exporter": "python",
   "pygments_lexer": "ipython3",
   "version": "3.12.4"
  }
 },
 "nbformat": 4,
 "nbformat_minor": 2
}
